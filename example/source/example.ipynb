{
 "metadata": {
  "name": "",
  "signature": "sha256:36f85f14d4f5590f1d553a2e9f7b3c6e6dd49f0c336b8d220c920cffe831e980"
 },
 "nbformat": 3,
 "nbformat_minor": 0,
 "worksheets": [
  {
   "cells": [
    {
     "cell_type": "code",
     "collapsed": false,
     "input": [
      "%matplotlib inline\n",
      "from matplotlib import pyplot as plt\n",
      "import numpy as np\n",
      "\n",
      "plt.xkcd()\n",
      "\n",
      "fig = plt.figure()\n",
      "ax = fig.add_subplot(1, 1, 1)\n",
      "ax.spines['right'].set_color('none')\n",
      "ax.spines['top'].set_color('none')\n",
      "plt.xticks([])\n",
      "plt.yticks([])\n",
      "ax.set_ylim([-30, 10])\n",
      "\n",
      "data = np.ones(100)\n",
      "data[70:] -= np.arange(30)\n",
      "\n",
      "plt.annotate(\n",
      "    'THE DAY I REALIZED\\nI COULD COOK BACON\\nWHENEVER I WANTED',\n",
      "    xy=(70, 1), arrowprops=dict(arrowstyle='->'), xytext=(15, -10))\n",
      "\n",
      "plt.plot(data)\n",
      "\n",
      "plt.xlabel('time')\n",
      "plt.ylabel('my overall health')\n",
      " \n",
      "plt.show()"
     ],
     "language": "python",
     "metadata": {},
     "outputs": []
    },
    {
     "cell_type": "code",
     "collapsed": false,
     "input": [
      "\"This is a cell that returns text\""
     ],
     "language": "python",
     "metadata": {},
     "outputs": []
    }
   ],
   "metadata": {}
  }
 ]
}