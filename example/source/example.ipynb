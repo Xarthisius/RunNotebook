{
 "metadata": {
  "name": "",
  "signature": "sha256:9d8ca6f5bbb93707899d8fcb49d3fad6d6d396d3714c162db723b1a0a04f4615"
 },
 "nbformat": 3,
 "nbformat_minor": 0,
 "worksheets": [
  {
   "cells": [
    {
     "cell_type": "code",
     "collapsed": false,
     "input": [
      "%matplotlib inline\n",
      "from matplotlib import pyplot as plt\n",
      "import numpy as np\n",
      "\n",
      "plt.xkcd()\n",
      "\n",
      "fig = plt.figure()\n",
      "ax = fig.add_subplot(1, 1, 1)\n",
      "ax.spines['right'].set_color('none')\n",
      "ax.spines['top'].set_color('none')\n",
      "plt.xticks([])\n",
      "plt.yticks([])\n",
      "ax.set_ylim([-30, 10])\n",
      "\n",
      "data = np.ones(100)\n",
      "data[70:] -= np.arange(30)\n",
      "\n",
      "plt.annotate(\n",
      "    'THE DAY I REALIZED\\nI COULD COOK BACON\\nWHENEVER I WANTED',\n",
      "    xy=(70, 1), arrowprops=dict(arrowstyle='->'), xytext=(15, -10))\n",
      "\n",
      "plt.plot(data)\n",
      "\n",
      "plt.xlabel('time')\n",
      "plt.ylabel('my overall health')\n",
      " \n",
      "plt.show()"
     ],
     "language": "python",
     "metadata": {},
     "outputs": []
    }
   ],
   "metadata": {}
  }
 ]
}